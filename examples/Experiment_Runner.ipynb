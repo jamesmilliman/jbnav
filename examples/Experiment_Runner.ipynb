{
 "cells": [
  {
   "cell_type": "code",
   "execution_count": 1,
   "id": "403cf6d0",
   "metadata": {},
   "outputs": [],
   "source": [
    "import assignment5\n",
    "import jbnav"
   ]
  },
  {
   "cell_type": "code",
   "execution_count": 2,
   "id": "e6e12c93",
   "metadata": {},
   "outputs": [
    {
     "name": "stdout",
     "output_type": "stream",
     "text": [
      "Starting jbnav experiment: 'funny-hermann'\n"
     ]
    },
    {
     "name": "stderr",
     "output_type": "stream",
     "text": [
      "100%|██████████████████████████████████████████████████████████████████████████████████████████████████████████████████████████████████████████████████████████████████████████████████████████████████████████████████████████████████████████████████| 60/60 [00:13<00:00,  4.38it/s]\n"
     ]
    },
    {
     "name": "stdout",
     "output_type": "stream",
     "text": [
      "jbnav experiment 'funny-hermann'' complete and recorded\n"
     ]
    },
    {
     "data": {
      "text/plain": [
       "'funny-hermann'"
      ]
     },
     "execution_count": 2,
     "metadata": {},
     "output_type": "execute_result"
    }
   ],
   "source": [
    "jbnav.run_experiment(assignment5.lane_detection, seed=4, duration=3, weather=\"ClearSunset\")"
   ]
  },
  {
   "cell_type": "code",
   "execution_count": 3,
   "id": "a493019c",
   "metadata": {},
   "outputs": [
    {
     "name": "stdout",
     "output_type": "stream",
     "text": [
      "Starting jbnav experiment: 'awesome-wescoff'\n"
     ]
    },
    {
     "name": "stderr",
     "output_type": "stream",
     "text": [
      "ERROR: Spawn failed because of collision at spawn position\n",
      "ERROR: Spawn failed because of collision at spawn position\n",
      "ERROR: Spawn failed because of collision at spawn position\n",
      "  0%|                                                                                                                                                                                                                                                           | 0/60 [00:00<?, ?it/s]"
     ]
    },
    {
     "name": "stdout",
     "output_type": "stream",
     "text": [
      "spawned 60 vehicles and 2 walkers, press Ctrl+C to exit.\n"
     ]
    },
    {
     "name": "stderr",
     "output_type": "stream",
     "text": [
      "100%|██████████████████████████████████████████████████████████████████████████████████████████████████████████████████████████████████████████████████████████████████████████████████████████████████████████████████████████████████████████████████| 60/60 [00:14<00:00,  4.26it/s]\n"
     ]
    },
    {
     "name": "stdout",
     "output_type": "stream",
     "text": [
      "jbnav experiment 'awesome-wescoff'' complete and recorded\n"
     ]
    },
    {
     "data": {
      "text/plain": [
       "'awesome-wescoff'"
      ]
     },
     "execution_count": 3,
     "metadata": {},
     "output_type": "execute_result"
    }
   ],
   "source": [
    "jbnav.run_experiment(assignment5.lane_detection, seed=4, duration=3, traffic_size=(60,5), weather=\"HardRainNoon\")"
   ]
  },
  {
   "cell_type": "code",
   "execution_count": 4,
   "id": "34240b40",
   "metadata": {},
   "outputs": [],
   "source": [
    "import line_detection"
   ]
  },
  {
   "cell_type": "code",
   "execution_count": 5,
   "id": "31679043",
   "metadata": {},
   "outputs": [
    {
     "name": "stdout",
     "output_type": "stream",
     "text": [
      "Starting jbnav experiment: 'dreamy-chatelet'\n"
     ]
    },
    {
     "name": "stderr",
     "output_type": "stream",
     "text": [
      "100%|██████████████████████████████████████████████████████████████████████████████████████████████████████████████████████████████████████████████████████████████████████████████████████████████████████████████████████████████████████████████████| 60/60 [00:10<00:00,  5.59it/s]\n"
     ]
    },
    {
     "name": "stdout",
     "output_type": "stream",
     "text": [
      "jbnav experiment 'dreamy-chatelet'' complete and recorded\n"
     ]
    },
    {
     "data": {
      "text/plain": [
       "'dreamy-chatelet'"
      ]
     },
     "execution_count": 5,
     "metadata": {},
     "output_type": "execute_result"
    }
   ],
   "source": [
    "jbnav.run_experiment(line_detection.lines, seed=4, duration=3, weather=\"ClearSunset\")"
   ]
  },
  {
   "cell_type": "code",
   "execution_count": null,
   "id": "34153e98",
   "metadata": {},
   "outputs": [],
   "source": []
  }
 ],
 "metadata": {
  "kernelspec": {
   "display_name": "Python 3",
   "language": "python",
   "name": "python3"
  },
  "language_info": {
   "codemirror_mode": {
    "name": "ipython",
    "version": 3
   },
   "file_extension": ".py",
   "mimetype": "text/x-python",
   "name": "python",
   "nbconvert_exporter": "python",
   "pygments_lexer": "ipython3",
   "version": "3.7.7"
  }
 },
 "nbformat": 4,
 "nbformat_minor": 5
}
