{
 "cells": [
  {
   "cell_type": "code",
   "execution_count": 1,
   "id": "403cf6d0",
   "metadata": {},
   "outputs": [],
   "source": [
    "import assignment5\n",
    "import jbnav"
   ]
  },
  {
   "cell_type": "code",
   "execution_count": 3,
   "id": "e6e12c93",
   "metadata": {},
   "outputs": [
    {
     "name": "stdout",
     "output_type": "stream",
     "text": [
      "Starting jbnav experiment: 'peaceful-wright'\n"
     ]
    },
    {
     "name": "stderr",
     "output_type": "stream",
     "text": [
      "ERROR: Spawn failed because of collision at spawn position\n",
      "ERROR: Spawn failed because of collision at spawn position\n",
      "ERROR: Spawn failed because of collision at spawn position\n",
      "ERROR: Spawn failed because of collision at spawn position\n",
      "ERROR: Spawn failed because of collision at spawn position\n",
      "  0%|                                                                                          | 0/200 [00:00<?, ?it/s]"
     ]
    },
    {
     "name": "stdout",
     "output_type": "stream",
     "text": [
      "spawned 100 vehicles and 5 walkers, press Ctrl+C to exit.\n"
     ]
    },
    {
     "name": "stderr",
     "output_type": "stream",
     "text": [
      " 96%|████████████████████████████████████████████████████████████████████████████▊   | 192/200 [00:47<00:01,  4.21it/s]C:\\Users\\james\\Documents\\Masters\\autonomous\\project\\jbnav\\examples\\assignment5.py:355: RankWarning: Polyfit may be poorly conditioned\n",
      "  l, r = sliding_window_search(w)\n",
      "100%|████████████████████████████████████████████████████████████████████████████████| 200/200 [00:49<00:00,  4.05it/s]\n"
     ]
    },
    {
     "name": "stdout",
     "output_type": "stream",
     "text": [
      "jbnav experiment 'peaceful-wright'' complete and recorded\n"
     ]
    },
    {
     "data": {
      "text/plain": [
       "'peaceful-wright'"
      ]
     },
     "execution_count": 3,
     "metadata": {},
     "output_type": "execute_result"
    }
   ],
   "source": [
    "jbnav.run_experiment(assignment5.lane_detection, seed=3, traffic_size=(100, 10), duration=10, weather=\"ClearSunset\")\n"
   ]
  }
 ],
 "metadata": {
  "kernelspec": {
   "display_name": "Python 3",
   "language": "python",
   "name": "python3"
  },
  "language_info": {
   "codemirror_mode": {
    "name": "ipython",
    "version": 3
   },
   "file_extension": ".py",
   "mimetype": "text/x-python",
   "name": "python",
   "nbconvert_exporter": "python",
   "pygments_lexer": "ipython3",
   "version": "3.7.7"
  }
 },
 "nbformat": 4,
 "nbformat_minor": 5
}
